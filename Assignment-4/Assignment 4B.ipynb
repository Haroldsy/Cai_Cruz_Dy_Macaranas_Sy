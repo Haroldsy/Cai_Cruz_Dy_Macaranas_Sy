{
 "cells": [
  {
   "cell_type": "markdown",
   "metadata": {},
   "source": [
    "# Assignment 4B"
   ]
  },
  {
   "cell_type": "markdown",
   "metadata": {},
   "source": [
    "Version 1.01"
   ]
  },
  {
   "cell_type": "markdown",
   "metadata": {},
   "source": [
    "**Prerequisite:** You need to have gone through Assignment 4A to work through the numbers below.\n",
    "\n",
    "To make sure that you've done the work, perform checks by running the next few cells below:\n",
    "\n"
   ]
  },
  {
   "cell_type": "code",
   "execution_count": 1,
   "metadata": {},
   "outputs": [],
   "source": [
    "import pymongo"
   ]
  },
  {
   "cell_type": "code",
   "execution_count": 2,
   "metadata": {},
   "outputs": [
    {
     "name": "stdout",
     "output_type": "stream",
     "text": [
      "['admin', 'config', 'hr', 'local', 'order_management', 'products']\n"
     ]
    }
   ],
   "source": [
    "myclient = pymongo.MongoClient(\"mongodb://localhost:27017/\")\n",
    "\n",
    "print(myclient.list_database_names())"
   ]
  },
  {
   "cell_type": "markdown",
   "metadata": {},
   "source": [
    "You should see the following databases:\n",
    "* order_management\n",
    "* products\n",
    "* hr"
   ]
  },
  {
   "cell_type": "markdown",
   "metadata": {},
   "source": [
    "Let's create handlers for each below:"
   ]
  },
  {
   "cell_type": "code",
   "execution_count": 3,
   "metadata": {},
   "outputs": [],
   "source": [
    "products_db = myclient[\"products\"]\n",
    "order_management_db = myclient[\"order_management\"]\n",
    "hr_db = myclient[\"hr\"]"
   ]
  },
  {
   "cell_type": "markdown",
   "metadata": {},
   "source": [
    "Let's revisit the employees collection. "
   ]
  },
  {
   "cell_type": "code",
   "execution_count": 4,
   "metadata": {},
   "outputs": [
    {
     "data": {
      "text/plain": [
       "[{'_id': 1,\n",
       "  'first_name': 'Bong',\n",
       "  'last_name': 'Olpoc',\n",
       "  'base_pay': 2200.0,\n",
       "  'employee_id': '190001'},\n",
       " {'_id': 2,\n",
       "  'first_name': 'Chums',\n",
       "  'last_name': 'Uy',\n",
       "  'base_pay': 1650.0000000000002,\n",
       "  'employee_id': '190002'},\n",
       " {'_id': 3,\n",
       "  'first_name': 'Joaqs',\n",
       "  'last_name': 'Gonzales',\n",
       "  'base_pay': 1100.0,\n",
       "  'employee_id': '190003'},\n",
       " {'_id': 4,\n",
       "  'first_name': 'Joben',\n",
       "  'last_name': 'Ilagan',\n",
       "  'base_pay': 1100.0,\n",
       "  'employee_id': '190004'},\n",
       " {'_id': 5,\n",
       "  'first_name': 'Sean',\n",
       "  'last_name': 'Uy',\n",
       "  'base_pay': 2200.0,\n",
       "  'employee_id': '190005'},\n",
       " {'_id': 6,\n",
       "  'first_name': 'Stephen',\n",
       "  'last_name': 'Chan',\n",
       "  'base_pay': 1650.0000000000002,\n",
       "  'employee_id': '190006'}]"
      ]
     },
     "execution_count": 4,
     "metadata": {},
     "output_type": "execute_result"
    }
   ],
   "source": [
    "employees_col = hr_db[\"employees\"]\n",
    "\n",
    "[e for e in employees_col.find()]"
   ]
  },
  {
   "cell_type": "markdown",
   "metadata": {},
   "source": [
    "Let's assign an employee id to make it easier to reference. The convention we will use is just to prefix a year, followed by `_id` with padded zeros.\n"
   ]
  },
  {
   "cell_type": "code",
   "execution_count": 5,
   "metadata": {},
   "outputs": [
    {
     "name": "stdout",
     "output_type": "stream",
     "text": [
      "190001\n",
      "190002\n",
      "190003\n",
      "190004\n",
      "190005\n",
      "190006\n"
     ]
    }
   ],
   "source": [
    "# we will have to update one document at a time, unfortunately\n",
    "\n",
    "for e in employees_col.find({}):    \n",
    "    # print(\"{}\".format(str(e[\"_id\"]).zfill(3)))\n",
    "    employee_id = \"19{}\".format(str(e[\"_id\"]).zfill(4))\n",
    "    print(employee_id)\n",
    "    employees_col.update_one({\"_id\":e[\"_id\"]},{\"$set\":{\"employee_id\":employee_id}})"
   ]
  },
  {
   "cell_type": "code",
   "execution_count": 6,
   "metadata": {},
   "outputs": [
    {
     "name": "stdout",
     "output_type": "stream",
     "text": [
      "{'_id': 1, 'first_name': 'Bong', 'last_name': 'Olpoc', 'base_pay': 2200.0, 'employee_id': '190001'}\n",
      "{'_id': 2, 'first_name': 'Chums', 'last_name': 'Uy', 'base_pay': 1650.0000000000002, 'employee_id': '190002'}\n",
      "{'_id': 3, 'first_name': 'Joaqs', 'last_name': 'Gonzales', 'base_pay': 1100.0, 'employee_id': '190003'}\n",
      "{'_id': 4, 'first_name': 'Joben', 'last_name': 'Ilagan', 'base_pay': 1100.0, 'employee_id': '190004'}\n",
      "{'_id': 5, 'first_name': 'Sean', 'last_name': 'Uy', 'base_pay': 2200.0, 'employee_id': '190005'}\n",
      "{'_id': 6, 'first_name': 'Stephen', 'last_name': 'Chan', 'base_pay': 1650.0000000000002, 'employee_id': '190006'}\n"
     ]
    }
   ],
   "source": [
    "# check if new column employee_id was created\n",
    "for x in employees_col.find():\n",
    "    print(x)"
   ]
  },
  {
   "cell_type": "markdown",
   "metadata": {},
   "source": [
    "### 1) Logging Sales Orders"
   ]
  },
  {
   "cell_type": "markdown",
   "metadata": {},
   "source": [
    "Let's create a function `create_sales_order(collection, shopping_cart)` that takes on a MongoDB collection and a shopping cart directory as parameters and inserts the data directly as a document in the passed collection parameter."
   ]
  },
  {
   "cell_type": "markdown",
   "metadata": {},
   "source": [
    "But first, we need to create the collection **sales_orders** in **order_management**:"
   ]
  },
  {
   "cell_type": "code",
   "execution_count": 7,
   "metadata": {},
   "outputs": [],
   "source": [
    "sales_orders_col = order_management_db[\"sales_orders\"]"
   ]
  },
  {
   "cell_type": "markdown",
   "metadata": {},
   "source": [
    "#### 1a) Insert existing shopping carts to the new collection\n",
    "\n",
    "Existing shopping cart documents have already been defined below. Insert into the new collection. Let MongoDB handle creating the new `_id`s so no need to define these.\n",
    "\n",
    "(10 points)"
   ]
  },
  {
   "cell_type": "code",
   "execution_count": 8,
   "metadata": {},
   "outputs": [],
   "source": [
    "from datetime import datetime\n",
    "\n",
    "shopping_cart_list = [\n",
    "    {\"transaction_date\":datetime.strptime('Jul 1 2019  1:30PM', '%b %d %Y %I:%M%p'),\n",
    "     \"customer_id\":1,\n",
    "     \"clerk_id\":\"190002\",\n",
    "     \"total\":400,\n",
    "     \"items\":[\n",
    "         {\n",
    "             \"code\":\"beer\",\n",
    "             \"qty\":1,\n",
    "             \"subtotal\":200\n",
    "         },\n",
    "         {\n",
    "             \"code\":\"turmericbutter\",\n",
    "             \"qty\":1,\n",
    "             \"subtotal\":200\n",
    "         }\n",
    "     ]\n",
    "    },\n",
    "    {\"transaction_date\":datetime.strptime('Jul 1 2019  1:35PM', '%b %d %Y %I:%M%p'),\n",
    "     \"customer_id\":2,\n",
    "     \"clerk_id\":\"190001\",\n",
    "     \"total\":400,\n",
    "     \"items\":[\n",
    "         {\n",
    "             \"code\":\"beer\",\n",
    "             \"qty\":1,\n",
    "             \"subtotal\":200\n",
    "         },\n",
    "         {\n",
    "             \"code\":\"turmericbutter\",\n",
    "             \"qty\":1,\n",
    "             \"subtotal\":200\n",
    "         }\n",
    "     ]\n",
    "    },\n",
    "    {\"transaction_date\":datetime.strptime('Jul 1 2019  3:30PM', '%b %d %Y %I:%M%p'),\n",
    "     \"customer_id\":3,\n",
    "     \"clerk_id\":\"190003\",\n",
    "     \"total\":400,\n",
    "     \"items\":[\n",
    "         {\n",
    "             \"code\":\"beer\",\n",
    "             \"qty\":1,\n",
    "             \"subtotal\":200\n",
    "         },\n",
    "         {\n",
    "             \"code\":\"turmericbutter\",\n",
    "             \"qty\":1,\n",
    "             \"subtotal\":200\n",
    "         }\n",
    "     ]\n",
    "    },\n",
    "    {\"transaction_date\":datetime.strptime('Jul 1 2019  3:30PM', '%b %d %Y %I:%M%p'),\n",
    "     \"customer_id\":4,\n",
    "     \"clerk_id\":\"190004\",\n",
    "     \"total\":400,\n",
    "     \"items\":[\n",
    "         {\n",
    "             \"code\":\"beer\",\n",
    "             \"qty\":1,\n",
    "             \"subtotal\":200\n",
    "         },\n",
    "         {\n",
    "             \"code\":\"turmericbutter\",\n",
    "             \"qty\":1,\n",
    "             \"subtotal\":200\n",
    "         }\n",
    "     ]\n",
    "    },\n",
    "    {\"transaction_date\":datetime.strptime('Jul 1 2019  4:30PM', '%b %d %Y %I:%M%p'),\n",
    "     \"customer_id\":5,\n",
    "     \"clerk_id\":\"190001\",\n",
    "     \"total\":400,\n",
    "     \"items\":[\n",
    "         {\n",
    "             \"code\":\"beer\",\n",
    "             \"qty\":1,\n",
    "             \"subtotal\":200\n",
    "         },\n",
    "         {\n",
    "             \"code\":\"turmericbutter\",\n",
    "             \"qty\":1,\n",
    "             \"subtotal\":200\n",
    "         }\n",
    "     ]\n",
    "    },\n",
    "    {\"transaction_date\":datetime.strptime('Jul 1 2019  5:30PM', '%b %d %Y %I:%M%p'),\n",
    "     \"customer_id\":6,\n",
    "     \"clerk_id\":\"190006\",\n",
    "     \"total\":400,\n",
    "     \"items\":[\n",
    "         {\n",
    "             \"code\":\"beer\",\n",
    "             \"qty\":1,\n",
    "             \"subtotal\":200\n",
    "         },\n",
    "         {\n",
    "             \"code\":\"turmericbutter\",\n",
    "             \"qty\":1,\n",
    "             \"subtotal\":200\n",
    "         }\n",
    "     ]\n",
    "    },\n",
    "    {\"transaction_date\":datetime.strptime('Jul 1 2019  6:30PM', '%b %d %Y %I:%M%p'),\n",
    "     \"customer_id\":7,\n",
    "     \"clerk_id\":\"190005\",\n",
    "     \"total\":400,\n",
    "     \"items\":[\n",
    "         {\n",
    "             \"code\":\"beer\",\n",
    "             \"qty\":1,\n",
    "             \"subtotal\":200\n",
    "         },\n",
    "         {\n",
    "             \"code\":\"turmericbutter\",\n",
    "             \"qty\":1,\n",
    "             \"subtotal\":200\n",
    "         }\n",
    "     ]\n",
    "    },\n",
    "]"
   ]
  },
  {
   "cell_type": "code",
   "execution_count": 9,
   "metadata": {},
   "outputs": [
    {
     "data": {
      "text/plain": [
       "[{'transaction_date': datetime.datetime(2019, 7, 1, 13, 30),\n",
       "  'customer_id': 1,\n",
       "  'clerk_id': '190002',\n",
       "  'total': 400,\n",
       "  'items': [{'code': 'beer', 'qty': 1, 'subtotal': 200},\n",
       "   {'code': 'turmericbutter', 'qty': 1, 'subtotal': 200}]},\n",
       " {'transaction_date': datetime.datetime(2019, 7, 1, 13, 35),\n",
       "  'customer_id': 2,\n",
       "  'clerk_id': '190001',\n",
       "  'total': 400,\n",
       "  'items': [{'code': 'beer', 'qty': 1, 'subtotal': 200},\n",
       "   {'code': 'turmericbutter', 'qty': 1, 'subtotal': 200}]},\n",
       " {'transaction_date': datetime.datetime(2019, 7, 1, 15, 30),\n",
       "  'customer_id': 3,\n",
       "  'clerk_id': '190003',\n",
       "  'total': 400,\n",
       "  'items': [{'code': 'beer', 'qty': 1, 'subtotal': 200},\n",
       "   {'code': 'turmericbutter', 'qty': 1, 'subtotal': 200}]},\n",
       " {'transaction_date': datetime.datetime(2019, 7, 1, 15, 30),\n",
       "  'customer_id': 4,\n",
       "  'clerk_id': '190004',\n",
       "  'total': 400,\n",
       "  'items': [{'code': 'beer', 'qty': 1, 'subtotal': 200},\n",
       "   {'code': 'turmericbutter', 'qty': 1, 'subtotal': 200}]},\n",
       " {'transaction_date': datetime.datetime(2019, 7, 1, 16, 30),\n",
       "  'customer_id': 5,\n",
       "  'clerk_id': '190001',\n",
       "  'total': 400,\n",
       "  'items': [{'code': 'beer', 'qty': 1, 'subtotal': 200},\n",
       "   {'code': 'turmericbutter', 'qty': 1, 'subtotal': 200}]},\n",
       " {'transaction_date': datetime.datetime(2019, 7, 1, 17, 30),\n",
       "  'customer_id': 6,\n",
       "  'clerk_id': '190006',\n",
       "  'total': 400,\n",
       "  'items': [{'code': 'beer', 'qty': 1, 'subtotal': 200},\n",
       "   {'code': 'turmericbutter', 'qty': 1, 'subtotal': 200}]},\n",
       " {'transaction_date': datetime.datetime(2019, 7, 1, 18, 30),\n",
       "  'customer_id': 7,\n",
       "  'clerk_id': '190005',\n",
       "  'total': 400,\n",
       "  'items': [{'code': 'beer', 'qty': 1, 'subtotal': 200},\n",
       "   {'code': 'turmericbutter', 'qty': 1, 'subtotal': 200}]}]"
      ]
     },
     "execution_count": 9,
     "metadata": {},
     "output_type": "execute_result"
    }
   ],
   "source": [
    "shopping_cart_list"
   ]
  },
  {
   "cell_type": "code",
   "execution_count": 10,
   "metadata": {},
   "outputs": [
    {
     "name": "stdout",
     "output_type": "stream",
     "text": [
      "[ObjectId('5d3575d3183a7ac264280c34'), ObjectId('5d3575d3183a7ac264280c35'), ObjectId('5d3575d3183a7ac264280c36'), ObjectId('5d3575d3183a7ac264280c37'), ObjectId('5d3575d3183a7ac264280c38'), ObjectId('5d3575d3183a7ac264280c39'), ObjectId('5d3575d3183a7ac264280c3a')]\n"
     ]
    }
   ],
   "source": [
    "x = sales_orders_col.insert_many(shopping_cart_list)\n",
    "\n",
    "print(x.inserted_ids)"
   ]
  },
  {
   "cell_type": "markdown",
   "metadata": {},
   "source": [
    "#### 1b) Define the function  `create_sales_order(collection, shopping_cart)` and test with a new shopping cart dictionary\n",
    "\n",
    "(10 points)"
   ]
  },
  {
   "cell_type": "code",
   "execution_count": 11,
   "metadata": {},
   "outputs": [],
   "source": [
    "new_shopping_cart = {\n",
    "    \"transaction_date\":datetime.strptime('Jul 2 2019  8:30AM', '%b %d %Y %I:%M%p'),\n",
    "     \"customer_id\":3,\n",
    "     \"clerk_id\":\"190002\",\n",
    "     \"total\":400,\n",
    "     \"items\":[\n",
    "         {\n",
    "             \"code\":\"beer\",\n",
    "             \"qty\":2,\n",
    "             \"subtotal\":400\n",
    "         }\n",
    "     ]\n",
    "    }"
   ]
  },
  {
   "cell_type": "code",
   "execution_count": 12,
   "metadata": {},
   "outputs": [],
   "source": [
    "def create_sales_order(collection, shopping_cart):\n",
    "    x = \"{}\".insert_many(shopping_cart).format(collection)\n",
    "    pass"
   ]
  },
  {
   "cell_type": "code",
   "execution_count": 13,
   "metadata": {},
   "outputs": [],
   "source": [
    "# test your new function here:\n",
    "\n",
    "# create_sales_order(sales_orders_col, new_shopping_cart)\n",
    "\n",
    "# inspect whole sales_order collection\n",
    "# [s for s in sales_orders_col.find({})]"
   ]
  },
  {
   "cell_type": "markdown",
   "metadata": {},
   "source": [
    "### 2) Determine commissions of clerks from sales orders"
   ]
  },
  {
   "cell_type": "markdown",
   "metadata": {},
   "source": [
    "Assuming each salesperson/clerk gets 1% of gross sales, list potentential commissions earned per sales order."
   ]
  },
  {
   "cell_type": "code",
   "execution_count": 14,
   "metadata": {},
   "outputs": [
    {
     "data": {
      "text/plain": [
       "[{'clerk_id': '190002', 'total': 400},\n",
       " {'clerk_id': '190001', 'total': 400},\n",
       " {'clerk_id': '190003', 'total': 400},\n",
       " {'clerk_id': '190004', 'total': 400},\n",
       " {'clerk_id': '190001', 'total': 400},\n",
       " {'clerk_id': '190006', 'total': 400},\n",
       " {'clerk_id': '190005', 'total': 400},\n",
       " {'clerk_id': '190002', 'total': 400},\n",
       " {'clerk_id': '190001', 'total': 400},\n",
       " {'clerk_id': '190003', 'total': 400},\n",
       " {'clerk_id': '190004', 'total': 400},\n",
       " {'clerk_id': '190001', 'total': 400},\n",
       " {'clerk_id': '190006', 'total': 400},\n",
       " {'clerk_id': '190005', 'total': 400},\n",
       " {'clerk_id': '190002', 'total': 400},\n",
       " {'clerk_id': '190001', 'total': 400},\n",
       " {'clerk_id': '190003', 'total': 400},\n",
       " {'clerk_id': '190004', 'total': 400},\n",
       " {'clerk_id': '190001', 'total': 400},\n",
       " {'clerk_id': '190006', 'total': 400},\n",
       " {'clerk_id': '190005', 'total': 400},\n",
       " {'clerk_id': '190002', 'total': 400},\n",
       " {'clerk_id': '190001', 'total': 400},\n",
       " {'clerk_id': '190003', 'total': 400},\n",
       " {'clerk_id': '190004', 'total': 400},\n",
       " {'clerk_id': '190001', 'total': 400},\n",
       " {'clerk_id': '190006', 'total': 400},\n",
       " {'clerk_id': '190005', 'total': 400},\n",
       " {'clerk_id': '190002', 'total': 400},\n",
       " {'clerk_id': '190001', 'total': 400},\n",
       " {'clerk_id': '190003', 'total': 400},\n",
       " {'clerk_id': '190004', 'total': 400},\n",
       " {'clerk_id': '190001', 'total': 400},\n",
       " {'clerk_id': '190006', 'total': 400},\n",
       " {'clerk_id': '190005', 'total': 400}]"
      ]
     },
     "execution_count": 14,
     "metadata": {},
     "output_type": "execute_result"
    }
   ],
   "source": [
    "# do a quick dump of sales orders showing just the clerk id and total amount per sales order\n",
    "[o for o in sales_orders_col.find({},{\"_id\":0,\"clerk_id\":1,\"total\":1})]"
   ]
  },
  {
   "cell_type": "markdown",
   "metadata": {},
   "source": [
    "If you wish to display the name of the clerk, let's apply a lookup function"
   ]
  },
  {
   "cell_type": "code",
   "execution_count": 15,
   "metadata": {
    "scrolled": false
   },
   "outputs": [
    {
     "data": {
      "text/plain": [
       "[{'Uy, Chums': {'total': 400, 'commissions': 4.0}},\n",
       " {'Olpoc, Bong': {'total': 400, 'commissions': 4.0}},\n",
       " {'Gonzales, Joaqs': {'total': 400, 'commissions': 4.0}},\n",
       " {'Ilagan, Joben': {'total': 400, 'commissions': 4.0}},\n",
       " {'Olpoc, Bong': {'total': 400, 'commissions': 4.0}},\n",
       " {'Chan, Stephen': {'total': 400, 'commissions': 4.0}},\n",
       " {'Uy, Sean': {'total': 400, 'commissions': 4.0}},\n",
       " {'Uy, Chums': {'total': 400, 'commissions': 4.0}},\n",
       " {'Olpoc, Bong': {'total': 400, 'commissions': 4.0}},\n",
       " {'Gonzales, Joaqs': {'total': 400, 'commissions': 4.0}},\n",
       " {'Ilagan, Joben': {'total': 400, 'commissions': 4.0}},\n",
       " {'Olpoc, Bong': {'total': 400, 'commissions': 4.0}},\n",
       " {'Chan, Stephen': {'total': 400, 'commissions': 4.0}},\n",
       " {'Uy, Sean': {'total': 400, 'commissions': 4.0}},\n",
       " {'Uy, Chums': {'total': 400, 'commissions': 4.0}},\n",
       " {'Olpoc, Bong': {'total': 400, 'commissions': 4.0}},\n",
       " {'Gonzales, Joaqs': {'total': 400, 'commissions': 4.0}},\n",
       " {'Ilagan, Joben': {'total': 400, 'commissions': 4.0}},\n",
       " {'Olpoc, Bong': {'total': 400, 'commissions': 4.0}},\n",
       " {'Chan, Stephen': {'total': 400, 'commissions': 4.0}},\n",
       " {'Uy, Sean': {'total': 400, 'commissions': 4.0}},\n",
       " {'Uy, Chums': {'total': 400, 'commissions': 4.0}},\n",
       " {'Olpoc, Bong': {'total': 400, 'commissions': 4.0}},\n",
       " {'Gonzales, Joaqs': {'total': 400, 'commissions': 4.0}},\n",
       " {'Ilagan, Joben': {'total': 400, 'commissions': 4.0}},\n",
       " {'Olpoc, Bong': {'total': 400, 'commissions': 4.0}},\n",
       " {'Chan, Stephen': {'total': 400, 'commissions': 4.0}},\n",
       " {'Uy, Sean': {'total': 400, 'commissions': 4.0}},\n",
       " {'Uy, Chums': {'total': 400, 'commissions': 4.0}},\n",
       " {'Olpoc, Bong': {'total': 400, 'commissions': 4.0}},\n",
       " {'Gonzales, Joaqs': {'total': 400, 'commissions': 4.0}},\n",
       " {'Ilagan, Joben': {'total': 400, 'commissions': 4.0}},\n",
       " {'Olpoc, Bong': {'total': 400, 'commissions': 4.0}},\n",
       " {'Chan, Stephen': {'total': 400, 'commissions': 4.0}},\n",
       " {'Uy, Sean': {'total': 400, 'commissions': 4.0}}]"
      ]
     },
     "execution_count": 15,
     "metadata": {},
     "output_type": "execute_result"
    }
   ],
   "source": [
    "def employee_lookup(x):\n",
    "    employee = employees_col.find_one({\"employee_id\":x})\n",
    "    return \"{}, {}\".format(employee[\"last_name\"], employee[\"first_name\"])\n",
    "\n",
    "commission_rate = 0.01\n",
    "\n",
    "[{employee_lookup(o[\"clerk_id\"]):{\"total\":o[\"total\"], \"commissions\":o[\"total\"]*.01}} for o in sales_orders_col.find({},{\"_id\":0,\"clerk_id\":1,\"total\":1})]"
   ]
  },
  {
   "cell_type": "markdown",
   "metadata": {},
   "source": [
    "#### 2a) Generate a csv file containing total commissions earned per employee\n",
    "\n",
    "Go wild, be creative. Whether you generate the aggregate totals through accumulation (via regular iterators), Pandas dataframes, or through MongoDB aggregations, it's up to you.\n",
    "\n",
    "The file must be saved as **commissions.csv\""
   ]
  },
  {
   "cell_type": "code",
   "execution_count": 16,
   "metadata": {},
   "outputs": [],
   "source": [
    "import pandas as pd "
   ]
  },
  {
   "cell_type": "code",
   "execution_count": 17,
   "metadata": {},
   "outputs": [],
   "source": [
    "commissions = [{employee_lookup(o[\"clerk_id\"]):{\"total\":o[\"total\"], \"commissions\":o[\"total\"]*.01}} for o in sales_orders_col.find({},{\"_id\":0,\"clerk_id\":1,\"total\":1})]"
   ]
  },
  {
   "cell_type": "code",
   "execution_count": 18,
   "metadata": {
    "scrolled": true
   },
   "outputs": [
    {
     "data": {
      "text/plain": [
       "[{'Uy, Chums': {'total': 400, 'commissions': 4.0}},\n",
       " {'Olpoc, Bong': {'total': 400, 'commissions': 4.0}},\n",
       " {'Gonzales, Joaqs': {'total': 400, 'commissions': 4.0}},\n",
       " {'Ilagan, Joben': {'total': 400, 'commissions': 4.0}},\n",
       " {'Olpoc, Bong': {'total': 400, 'commissions': 4.0}},\n",
       " {'Chan, Stephen': {'total': 400, 'commissions': 4.0}},\n",
       " {'Uy, Sean': {'total': 400, 'commissions': 4.0}},\n",
       " {'Uy, Chums': {'total': 400, 'commissions': 4.0}},\n",
       " {'Olpoc, Bong': {'total': 400, 'commissions': 4.0}},\n",
       " {'Gonzales, Joaqs': {'total': 400, 'commissions': 4.0}},\n",
       " {'Ilagan, Joben': {'total': 400, 'commissions': 4.0}},\n",
       " {'Olpoc, Bong': {'total': 400, 'commissions': 4.0}},\n",
       " {'Chan, Stephen': {'total': 400, 'commissions': 4.0}},\n",
       " {'Uy, Sean': {'total': 400, 'commissions': 4.0}},\n",
       " {'Uy, Chums': {'total': 400, 'commissions': 4.0}},\n",
       " {'Olpoc, Bong': {'total': 400, 'commissions': 4.0}},\n",
       " {'Gonzales, Joaqs': {'total': 400, 'commissions': 4.0}},\n",
       " {'Ilagan, Joben': {'total': 400, 'commissions': 4.0}},\n",
       " {'Olpoc, Bong': {'total': 400, 'commissions': 4.0}},\n",
       " {'Chan, Stephen': {'total': 400, 'commissions': 4.0}},\n",
       " {'Uy, Sean': {'total': 400, 'commissions': 4.0}},\n",
       " {'Uy, Chums': {'total': 400, 'commissions': 4.0}},\n",
       " {'Olpoc, Bong': {'total': 400, 'commissions': 4.0}},\n",
       " {'Gonzales, Joaqs': {'total': 400, 'commissions': 4.0}},\n",
       " {'Ilagan, Joben': {'total': 400, 'commissions': 4.0}},\n",
       " {'Olpoc, Bong': {'total': 400, 'commissions': 4.0}},\n",
       " {'Chan, Stephen': {'total': 400, 'commissions': 4.0}},\n",
       " {'Uy, Sean': {'total': 400, 'commissions': 4.0}},\n",
       " {'Uy, Chums': {'total': 400, 'commissions': 4.0}},\n",
       " {'Olpoc, Bong': {'total': 400, 'commissions': 4.0}},\n",
       " {'Gonzales, Joaqs': {'total': 400, 'commissions': 4.0}},\n",
       " {'Ilagan, Joben': {'total': 400, 'commissions': 4.0}},\n",
       " {'Olpoc, Bong': {'total': 400, 'commissions': 4.0}},\n",
       " {'Chan, Stephen': {'total': 400, 'commissions': 4.0}},\n",
       " {'Uy, Sean': {'total': 400, 'commissions': 4.0}}]"
      ]
     },
     "execution_count": 18,
     "metadata": {},
     "output_type": "execute_result"
    }
   ],
   "source": [
    "commissions"
   ]
  },
  {
   "cell_type": "code",
   "execution_count": 19,
   "metadata": {
    "scrolled": true
   },
   "outputs": [],
   "source": [
    "commissions1 = pd.DataFrame(commissions)\n",
    "commissions1 = commissions1.fillna(0)"
   ]
  },
  {
   "cell_type": "code",
   "execution_count": 20,
   "metadata": {},
   "outputs": [],
   "source": [
    "commissions1.loc[:,\"Chan, Stephen\":\"Uy,Sean\"] = commissions1.loc[:,\"Chan, Stephen\":\"Uy,Sean\"].astype(str).replace(r',.+','',regex=True).copy()\n",
    "commissions1.loc[:,\"Chan, Stephen\":\"Uy,Sean\"] = commissions1.loc[:,\"Chan, Stephen\":\"Uy,Sean\"].astype(str).replace(r'{.+:','',regex=True).copy()"
   ]
  },
  {
   "cell_type": "code",
   "execution_count": 21,
   "metadata": {
    "scrolled": true
   },
   "outputs": [
    {
     "data": {
      "text/html": [
       "<div>\n",
       "<style scoped>\n",
       "    .dataframe tbody tr th:only-of-type {\n",
       "        vertical-align: middle;\n",
       "    }\n",
       "\n",
       "    .dataframe tbody tr th {\n",
       "        vertical-align: top;\n",
       "    }\n",
       "\n",
       "    .dataframe thead th {\n",
       "        text-align: right;\n",
       "    }\n",
       "</style>\n",
       "<table border=\"1\" class=\"dataframe\">\n",
       "  <thead>\n",
       "    <tr style=\"text-align: right;\">\n",
       "      <th></th>\n",
       "      <th>Chan, Stephen</th>\n",
       "      <th>Gonzales, Joaqs</th>\n",
       "      <th>Ilagan, Joben</th>\n",
       "      <th>Olpoc, Bong</th>\n",
       "      <th>Uy, Chums</th>\n",
       "      <th>Uy, Sean</th>\n",
       "    </tr>\n",
       "  </thead>\n",
       "  <tbody>\n",
       "    <tr>\n",
       "      <th>0</th>\n",
       "      <td>0</td>\n",
       "      <td>0</td>\n",
       "      <td>0</td>\n",
       "      <td>0</td>\n",
       "      <td>400</td>\n",
       "      <td>0</td>\n",
       "    </tr>\n",
       "    <tr>\n",
       "      <th>1</th>\n",
       "      <td>0</td>\n",
       "      <td>0</td>\n",
       "      <td>0</td>\n",
       "      <td>400</td>\n",
       "      <td>0</td>\n",
       "      <td>0</td>\n",
       "    </tr>\n",
       "    <tr>\n",
       "      <th>2</th>\n",
       "      <td>0</td>\n",
       "      <td>400</td>\n",
       "      <td>0</td>\n",
       "      <td>0</td>\n",
       "      <td>0</td>\n",
       "      <td>0</td>\n",
       "    </tr>\n",
       "    <tr>\n",
       "      <th>3</th>\n",
       "      <td>0</td>\n",
       "      <td>0</td>\n",
       "      <td>400</td>\n",
       "      <td>0</td>\n",
       "      <td>0</td>\n",
       "      <td>0</td>\n",
       "    </tr>\n",
       "    <tr>\n",
       "      <th>4</th>\n",
       "      <td>0</td>\n",
       "      <td>0</td>\n",
       "      <td>0</td>\n",
       "      <td>400</td>\n",
       "      <td>0</td>\n",
       "      <td>0</td>\n",
       "    </tr>\n",
       "    <tr>\n",
       "      <th>5</th>\n",
       "      <td>400</td>\n",
       "      <td>0</td>\n",
       "      <td>0</td>\n",
       "      <td>0</td>\n",
       "      <td>0</td>\n",
       "      <td>0</td>\n",
       "    </tr>\n",
       "    <tr>\n",
       "      <th>6</th>\n",
       "      <td>0</td>\n",
       "      <td>0</td>\n",
       "      <td>0</td>\n",
       "      <td>0</td>\n",
       "      <td>0</td>\n",
       "      <td>400</td>\n",
       "    </tr>\n",
       "    <tr>\n",
       "      <th>7</th>\n",
       "      <td>0</td>\n",
       "      <td>0</td>\n",
       "      <td>0</td>\n",
       "      <td>0</td>\n",
       "      <td>400</td>\n",
       "      <td>0</td>\n",
       "    </tr>\n",
       "    <tr>\n",
       "      <th>8</th>\n",
       "      <td>0</td>\n",
       "      <td>0</td>\n",
       "      <td>0</td>\n",
       "      <td>400</td>\n",
       "      <td>0</td>\n",
       "      <td>0</td>\n",
       "    </tr>\n",
       "    <tr>\n",
       "      <th>9</th>\n",
       "      <td>0</td>\n",
       "      <td>400</td>\n",
       "      <td>0</td>\n",
       "      <td>0</td>\n",
       "      <td>0</td>\n",
       "      <td>0</td>\n",
       "    </tr>\n",
       "    <tr>\n",
       "      <th>10</th>\n",
       "      <td>0</td>\n",
       "      <td>0</td>\n",
       "      <td>400</td>\n",
       "      <td>0</td>\n",
       "      <td>0</td>\n",
       "      <td>0</td>\n",
       "    </tr>\n",
       "    <tr>\n",
       "      <th>11</th>\n",
       "      <td>0</td>\n",
       "      <td>0</td>\n",
       "      <td>0</td>\n",
       "      <td>400</td>\n",
       "      <td>0</td>\n",
       "      <td>0</td>\n",
       "    </tr>\n",
       "    <tr>\n",
       "      <th>12</th>\n",
       "      <td>400</td>\n",
       "      <td>0</td>\n",
       "      <td>0</td>\n",
       "      <td>0</td>\n",
       "      <td>0</td>\n",
       "      <td>0</td>\n",
       "    </tr>\n",
       "    <tr>\n",
       "      <th>13</th>\n",
       "      <td>0</td>\n",
       "      <td>0</td>\n",
       "      <td>0</td>\n",
       "      <td>0</td>\n",
       "      <td>0</td>\n",
       "      <td>400</td>\n",
       "    </tr>\n",
       "    <tr>\n",
       "      <th>14</th>\n",
       "      <td>0</td>\n",
       "      <td>0</td>\n",
       "      <td>0</td>\n",
       "      <td>0</td>\n",
       "      <td>400</td>\n",
       "      <td>0</td>\n",
       "    </tr>\n",
       "    <tr>\n",
       "      <th>15</th>\n",
       "      <td>0</td>\n",
       "      <td>0</td>\n",
       "      <td>0</td>\n",
       "      <td>400</td>\n",
       "      <td>0</td>\n",
       "      <td>0</td>\n",
       "    </tr>\n",
       "    <tr>\n",
       "      <th>16</th>\n",
       "      <td>0</td>\n",
       "      <td>400</td>\n",
       "      <td>0</td>\n",
       "      <td>0</td>\n",
       "      <td>0</td>\n",
       "      <td>0</td>\n",
       "    </tr>\n",
       "    <tr>\n",
       "      <th>17</th>\n",
       "      <td>0</td>\n",
       "      <td>0</td>\n",
       "      <td>400</td>\n",
       "      <td>0</td>\n",
       "      <td>0</td>\n",
       "      <td>0</td>\n",
       "    </tr>\n",
       "    <tr>\n",
       "      <th>18</th>\n",
       "      <td>0</td>\n",
       "      <td>0</td>\n",
       "      <td>0</td>\n",
       "      <td>400</td>\n",
       "      <td>0</td>\n",
       "      <td>0</td>\n",
       "    </tr>\n",
       "    <tr>\n",
       "      <th>19</th>\n",
       "      <td>400</td>\n",
       "      <td>0</td>\n",
       "      <td>0</td>\n",
       "      <td>0</td>\n",
       "      <td>0</td>\n",
       "      <td>0</td>\n",
       "    </tr>\n",
       "    <tr>\n",
       "      <th>20</th>\n",
       "      <td>0</td>\n",
       "      <td>0</td>\n",
       "      <td>0</td>\n",
       "      <td>0</td>\n",
       "      <td>0</td>\n",
       "      <td>400</td>\n",
       "    </tr>\n",
       "    <tr>\n",
       "      <th>21</th>\n",
       "      <td>0</td>\n",
       "      <td>0</td>\n",
       "      <td>0</td>\n",
       "      <td>0</td>\n",
       "      <td>400</td>\n",
       "      <td>0</td>\n",
       "    </tr>\n",
       "    <tr>\n",
       "      <th>22</th>\n",
       "      <td>0</td>\n",
       "      <td>0</td>\n",
       "      <td>0</td>\n",
       "      <td>400</td>\n",
       "      <td>0</td>\n",
       "      <td>0</td>\n",
       "    </tr>\n",
       "    <tr>\n",
       "      <th>23</th>\n",
       "      <td>0</td>\n",
       "      <td>400</td>\n",
       "      <td>0</td>\n",
       "      <td>0</td>\n",
       "      <td>0</td>\n",
       "      <td>0</td>\n",
       "    </tr>\n",
       "    <tr>\n",
       "      <th>24</th>\n",
       "      <td>0</td>\n",
       "      <td>0</td>\n",
       "      <td>400</td>\n",
       "      <td>0</td>\n",
       "      <td>0</td>\n",
       "      <td>0</td>\n",
       "    </tr>\n",
       "    <tr>\n",
       "      <th>25</th>\n",
       "      <td>0</td>\n",
       "      <td>0</td>\n",
       "      <td>0</td>\n",
       "      <td>400</td>\n",
       "      <td>0</td>\n",
       "      <td>0</td>\n",
       "    </tr>\n",
       "    <tr>\n",
       "      <th>26</th>\n",
       "      <td>400</td>\n",
       "      <td>0</td>\n",
       "      <td>0</td>\n",
       "      <td>0</td>\n",
       "      <td>0</td>\n",
       "      <td>0</td>\n",
       "    </tr>\n",
       "    <tr>\n",
       "      <th>27</th>\n",
       "      <td>0</td>\n",
       "      <td>0</td>\n",
       "      <td>0</td>\n",
       "      <td>0</td>\n",
       "      <td>0</td>\n",
       "      <td>400</td>\n",
       "    </tr>\n",
       "    <tr>\n",
       "      <th>28</th>\n",
       "      <td>0</td>\n",
       "      <td>0</td>\n",
       "      <td>0</td>\n",
       "      <td>0</td>\n",
       "      <td>400</td>\n",
       "      <td>0</td>\n",
       "    </tr>\n",
       "    <tr>\n",
       "      <th>29</th>\n",
       "      <td>0</td>\n",
       "      <td>0</td>\n",
       "      <td>0</td>\n",
       "      <td>400</td>\n",
       "      <td>0</td>\n",
       "      <td>0</td>\n",
       "    </tr>\n",
       "    <tr>\n",
       "      <th>30</th>\n",
       "      <td>0</td>\n",
       "      <td>400</td>\n",
       "      <td>0</td>\n",
       "      <td>0</td>\n",
       "      <td>0</td>\n",
       "      <td>0</td>\n",
       "    </tr>\n",
       "    <tr>\n",
       "      <th>31</th>\n",
       "      <td>0</td>\n",
       "      <td>0</td>\n",
       "      <td>400</td>\n",
       "      <td>0</td>\n",
       "      <td>0</td>\n",
       "      <td>0</td>\n",
       "    </tr>\n",
       "    <tr>\n",
       "      <th>32</th>\n",
       "      <td>0</td>\n",
       "      <td>0</td>\n",
       "      <td>0</td>\n",
       "      <td>400</td>\n",
       "      <td>0</td>\n",
       "      <td>0</td>\n",
       "    </tr>\n",
       "    <tr>\n",
       "      <th>33</th>\n",
       "      <td>400</td>\n",
       "      <td>0</td>\n",
       "      <td>0</td>\n",
       "      <td>0</td>\n",
       "      <td>0</td>\n",
       "      <td>0</td>\n",
       "    </tr>\n",
       "    <tr>\n",
       "      <th>34</th>\n",
       "      <td>0</td>\n",
       "      <td>0</td>\n",
       "      <td>0</td>\n",
       "      <td>0</td>\n",
       "      <td>0</td>\n",
       "      <td>400</td>\n",
       "    </tr>\n",
       "  </tbody>\n",
       "</table>\n",
       "</div>"
      ],
      "text/plain": [
       "    Chan, Stephen  Gonzales, Joaqs  Ilagan, Joben  Olpoc, Bong  Uy, Chums  \\\n",
       "0               0                0              0            0        400   \n",
       "1               0                0              0          400          0   \n",
       "2               0              400              0            0          0   \n",
       "3               0                0            400            0          0   \n",
       "4               0                0              0          400          0   \n",
       "5             400                0              0            0          0   \n",
       "6               0                0              0            0          0   \n",
       "7               0                0              0            0        400   \n",
       "8               0                0              0          400          0   \n",
       "9               0              400              0            0          0   \n",
       "10              0                0            400            0          0   \n",
       "11              0                0              0          400          0   \n",
       "12            400                0              0            0          0   \n",
       "13              0                0              0            0          0   \n",
       "14              0                0              0            0        400   \n",
       "15              0                0              0          400          0   \n",
       "16              0              400              0            0          0   \n",
       "17              0                0            400            0          0   \n",
       "18              0                0              0          400          0   \n",
       "19            400                0              0            0          0   \n",
       "20              0                0              0            0          0   \n",
       "21              0                0              0            0        400   \n",
       "22              0                0              0          400          0   \n",
       "23              0              400              0            0          0   \n",
       "24              0                0            400            0          0   \n",
       "25              0                0              0          400          0   \n",
       "26            400                0              0            0          0   \n",
       "27              0                0              0            0          0   \n",
       "28              0                0              0            0        400   \n",
       "29              0                0              0          400          0   \n",
       "30              0              400              0            0          0   \n",
       "31              0                0            400            0          0   \n",
       "32              0                0              0          400          0   \n",
       "33            400                0              0            0          0   \n",
       "34              0                0              0            0          0   \n",
       "\n",
       "    Uy, Sean  \n",
       "0          0  \n",
       "1          0  \n",
       "2          0  \n",
       "3          0  \n",
       "4          0  \n",
       "5          0  \n",
       "6        400  \n",
       "7          0  \n",
       "8          0  \n",
       "9          0  \n",
       "10         0  \n",
       "11         0  \n",
       "12         0  \n",
       "13       400  \n",
       "14         0  \n",
       "15         0  \n",
       "16         0  \n",
       "17         0  \n",
       "18         0  \n",
       "19         0  \n",
       "20       400  \n",
       "21         0  \n",
       "22         0  \n",
       "23         0  \n",
       "24         0  \n",
       "25         0  \n",
       "26         0  \n",
       "27       400  \n",
       "28         0  \n",
       "29         0  \n",
       "30         0  \n",
       "31         0  \n",
       "32         0  \n",
       "33         0  \n",
       "34       400  "
      ]
     },
     "execution_count": 21,
     "metadata": {},
     "output_type": "execute_result"
    }
   ],
   "source": [
    "commissions1.loc[:,\"Chan, Stephen\":\"Uy,Sean\"]=commissions1.loc[:,\"Chan, Stephen\":\"Uy,Sean\"].apply(pd.to_numeric)\n",
    "commissions1"
   ]
  },
  {
   "cell_type": "code",
   "execution_count": 22,
   "metadata": {
    "scrolled": true
   },
   "outputs": [
    {
     "data": {
      "text/plain": [
       "['Chan, Stephen',\n",
       " 'Gonzales, Joaqs',\n",
       " 'Ilagan, Joben',\n",
       " 'Olpoc, Bong',\n",
       " 'Uy, Chums',\n",
       " 'Uy, Sean']"
      ]
     },
     "execution_count": 22,
     "metadata": {},
     "output_type": "execute_result"
    }
   ],
   "source": [
    "column_names = []\n",
    "\n",
    "for col in commissions1.columns: \n",
    "    column_names.append(col)\n",
    "    \n",
    "column_names    "
   ]
  },
  {
   "cell_type": "code",
   "execution_count": 23,
   "metadata": {},
   "outputs": [],
   "source": [
    "import re"
   ]
  },
  {
   "cell_type": "code",
   "execution_count": 24,
   "metadata": {},
   "outputs": [
    {
     "data": {
      "text/plain": [
       "['Chan', 'Gonzales', 'Ilagan', 'Olpoc', 'Uy', 'Uy']"
      ]
     },
     "execution_count": 24,
     "metadata": {},
     "output_type": "execute_result"
    }
   ],
   "source": [
    "last_names = []\n",
    "\n",
    "for i in column_names:\n",
    "    last_names.append(re.search(\".+,\",i).group())\n",
    "    \n",
    "last_names2 = []\n",
    "for i in last_names:\n",
    "    last_names2.append(i[:-1])\n",
    "\n",
    "last_names2"
   ]
  },
  {
   "cell_type": "code",
   "execution_count": 25,
   "metadata": {},
   "outputs": [
    {
     "data": {
      "text/plain": [
       "['Stephen', 'Joaqs', 'Joben', 'Bong', 'Chums', 'Sean']"
      ]
     },
     "execution_count": 25,
     "metadata": {},
     "output_type": "execute_result"
    }
   ],
   "source": [
    "first_names = []\n",
    "\n",
    "for i in column_names:\n",
    "    first_names.append(re.search(\"\\s.+.\",i).group())\n",
    "    \n",
    "first_names2 = []\n",
    "for i in first_names:\n",
    "    first_names2.append(i[1:])\n",
    "\n",
    "first_names2"
   ]
  },
  {
   "cell_type": "code",
   "execution_count": 26,
   "metadata": {},
   "outputs": [
    {
     "data": {
      "text/plain": [
       "[2000, 2000, 2000, 4000, 2000, 2000]"
      ]
     },
     "execution_count": 26,
     "metadata": {},
     "output_type": "execute_result"
    }
   ],
   "source": [
    "sales = []\n",
    "\n",
    "for i in column_names:\n",
    "    sales.append(commissions1[i].sum())\n",
    "    \n",
    "sales"
   ]
  },
  {
   "cell_type": "code",
   "execution_count": 27,
   "metadata": {},
   "outputs": [
    {
     "data": {
      "text/plain": [
       "[20, 20, 20, 40, 20, 20]"
      ]
     },
     "execution_count": 27,
     "metadata": {},
     "output_type": "execute_result"
    }
   ],
   "source": [
    "commissions = []\n",
    "\n",
    "for i in sales:\n",
    "    commissions.append(int(i*.01))\n",
    "    \n",
    "commissions"
   ]
  },
  {
   "cell_type": "code",
   "execution_count": 28,
   "metadata": {},
   "outputs": [],
   "source": [
    "import pandas\n",
    "\n",
    "finalDF = pandas.DataFrame(data={\"last_name\": last_names2, \"first_name\": first_names2, \"total_sales\": sales,\n",
    "                                \"commissions\":commissions})\n",
    "finalDF.to_csv(\"commissions.csv\", sep=',',index=False)"
   ]
  },
  {
   "cell_type": "markdown",
   "metadata": {},
   "source": [
    "The csv must have the following format:\n",
    "```\n",
    "last_name,first_name,total_sales,total_commissions\n",
    "```\n",
    "\n",
    "(20 points)"
   ]
  },
  {
   "cell_type": "markdown",
   "metadata": {},
   "source": [
    "#### 2b) Generate a payslip per clerk\n",
    "\n",
    "Each clerk must receive a payslip (as represented by separate files with the format <employee id>-commissions.html) containing the following:\n",
    "    \n",
    "```\n",
    "<html>\n",
    "   <div>{first_name} {last_name}</div><br/>\n",
    "   <div id=\"total_sales\">\n",
    "       <div>Total Sales: </div><div>{total_sales}</div>\n",
    "   <div><br/>\n",
    "   <div id=\"total_commissions\">\n",
    "       <div>Total Commissions: </div><div>{total_commissions}</div>\n",
    "   <div><br/>\n",
    "</html>\n",
    "```\n",
    "\n",
    "(20 points)"
   ]
  },
  {
   "cell_type": "code",
   "execution_count": 64,
   "metadata": {},
   "outputs": [],
   "source": [
    "html = \"\"\"\n",
    "<html>\n",
    "    <head>\n",
    "    </head>\n",
    "    <center>\n",
    "    <text>- - - - - - - - - - - - - - -</text>\n",
    "    <h1 style=\"font-family: Roboto; color: #000080\">Payslip</h1>\n",
    "   {paysliphtml}\n",
    "   <text>- - - - - - - - - - - - - - -</text>\n",
    "   <center>\n",
    "</html>\n",
    "\"\"\""
   ]
  },
  {
   "cell_type": "code",
   "execution_count": 67,
   "metadata": {},
   "outputs": [],
   "source": [
    "paysliphtml = \"\"\"\"\"\"\n",
    "\n",
    "for i in range(len(sales)):\n",
    "    paysliphtml += '''<div style=\"font-family: Roboto;\">'''\n",
    "    paysliphtml += first_names2[i]+\" \"+last_names2[i]\n",
    "    paysliphtml += '''</div><br/><div style=\"font-family: Roboto;\"><div>Total Sales: </div><div>'''\n",
    "    paysliphtml += str(sales[i])\n",
    "    paysliphtml += '''</div><div><br/><div><div>Total Commissions: </div><div>'''    \n",
    "    paysliphtml += str(commissions[i])\n",
    "    paysliphtml += '''<div><div><br/>'''\n",
    "    with open(column_names[i]+\"-commissions.html\",\"w+\") as file:\n",
    "        file.write(html.format(paysliphtml=paysliphtml))\n",
    "    paysliphtml = \"\"\"\"\"\""
   ]
  }
 ],
 "metadata": {
  "kernelspec": {
   "display_name": "Python 3",
   "language": "python",
   "name": "python3"
  },
  "language_info": {
   "codemirror_mode": {
    "name": "ipython",
    "version": 3
   },
   "file_extension": ".py",
   "mimetype": "text/x-python",
   "name": "python",
   "nbconvert_exporter": "python",
   "pygments_lexer": "ipython3",
   "version": "3.7.3"
  }
 },
 "nbformat": 4,
 "nbformat_minor": 2
}
