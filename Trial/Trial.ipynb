{
 "cells": [
  {
   "cell_type": "code",
   "execution_count": 1,
   "metadata": {},
   "outputs": [],
   "source": [
    "import pandas as pd\n",
    "df = pd.read_csv(\"sample.csv\")"
   ]
  },
  {
   "cell_type": "code",
   "execution_count": 2,
   "metadata": {},
   "outputs": [],
   "source": [
    "day1 = [i for i in df.loc[:,\"DAY 1\"]]"
   ]
  },
  {
   "cell_type": "code",
   "execution_count": 3,
   "metadata": {},
   "outputs": [
    {
     "data": {
      "text/plain": [
       "{'BBB': 7, 'AAA': 8, 'CCC': 6}"
      ]
     },
     "execution_count": 3,
     "metadata": {},
     "output_type": "execute_result"
    }
   ],
   "source": [
    "product_tally = {}\n",
    "\n",
    "product_set = set(day1)\n",
    "\n",
    "for product in product_set:\n",
    "    product_tally[product]=0\n",
    "    \n",
    "for product in day1:\n",
    "    product_tally[product] += 1\n",
    "    \n",
    "product_tally"
   ]
  },
  {
   "cell_type": "code",
   "execution_count": 4,
   "metadata": {
    "scrolled": true
   },
   "outputs": [
    {
     "data": {
      "text/html": [
       "<div>\n",
       "<style scoped>\n",
       "    .dataframe tbody tr th:only-of-type {\n",
       "        vertical-align: middle;\n",
       "    }\n",
       "\n",
       "    .dataframe tbody tr th {\n",
       "        vertical-align: top;\n",
       "    }\n",
       "\n",
       "    .dataframe thead th {\n",
       "        text-align: right;\n",
       "    }\n",
       "</style>\n",
       "<table border=\"1\" class=\"dataframe\">\n",
       "  <thead>\n",
       "    <tr style=\"text-align: right;\">\n",
       "      <th></th>\n",
       "      <th>product</th>\n",
       "      <th>quantity</th>\n",
       "    </tr>\n",
       "  </thead>\n",
       "  <tbody>\n",
       "    <tr>\n",
       "      <th>0</th>\n",
       "      <td>BBB</td>\n",
       "      <td>7.0</td>\n",
       "    </tr>\n",
       "    <tr>\n",
       "      <th>1</th>\n",
       "      <td>AAA</td>\n",
       "      <td>8.0</td>\n",
       "    </tr>\n",
       "    <tr>\n",
       "      <th>2</th>\n",
       "      <td>CCC</td>\n",
       "      <td>6.0</td>\n",
       "    </tr>\n",
       "  </tbody>\n",
       "</table>\n",
       "</div>"
      ],
      "text/plain": [
       "  product  quantity\n",
       "0     BBB       7.0\n",
       "1     AAA       8.0\n",
       "2     CCC       6.0"
      ]
     },
     "execution_count": 4,
     "metadata": {},
     "output_type": "execute_result"
    }
   ],
   "source": [
    "df2 = pd.DataFrame({\"product\":[],\n",
    "                  \"quantity\":[]})\n",
    "\n",
    "for i in product_tally:\n",
    "    df2 = df2.append({\"product\":i,\"quantity\":product_tally[i]},ignore_index=True)\n",
    "    \n",
    "df2"
   ]
  },
  {
   "cell_type": "code",
   "execution_count": 5,
   "metadata": {
    "scrolled": true
   },
   "outputs": [
    {
     "name": "stdout",
     "output_type": "stream",
     "text": [
      "Beginning Inventory of BBB: 15\n",
      "Beginning Inventory of AAA: 20\n",
      "Beginning Inventory of CCC: 50\n"
     ]
    }
   ],
   "source": [
    "beginning = []\n",
    "\n",
    "for i in df2.loc[:,\"product\"]:\n",
    "    j = input(\"Beginning Inventory of \"+i+\": \")\n",
    "    beginning.append(j)"
   ]
  },
  {
   "cell_type": "code",
   "execution_count": 6,
   "metadata": {},
   "outputs": [
    {
     "name": "stdout",
     "output_type": "stream",
     "text": [
      "Additional Inventory of BBB, if any: 0\n",
      "Additional Inventory of AAA, if any: 13\n",
      "Additional Inventory of CCC, if any: 0\n"
     ]
    }
   ],
   "source": [
    "additional = []\n",
    "\n",
    "for i in df2.loc[:,\"product\"]:\n",
    "    j = input(\"Additional Inventory of \"+i+\", if any: \")\n",
    "    additional.append(j)"
   ]
  },
  {
   "cell_type": "code",
   "execution_count": 7,
   "metadata": {},
   "outputs": [
    {
     "data": {
      "text/html": [
       "<div>\n",
       "<style scoped>\n",
       "    .dataframe tbody tr th:only-of-type {\n",
       "        vertical-align: middle;\n",
       "    }\n",
       "\n",
       "    .dataframe tbody tr th {\n",
       "        vertical-align: top;\n",
       "    }\n",
       "\n",
       "    .dataframe thead th {\n",
       "        text-align: right;\n",
       "    }\n",
       "</style>\n",
       "<table border=\"1\" class=\"dataframe\">\n",
       "  <thead>\n",
       "    <tr style=\"text-align: right;\">\n",
       "      <th></th>\n",
       "      <th>date</th>\n",
       "      <th>product</th>\n",
       "      <th>quantity</th>\n",
       "      <th>beginning</th>\n",
       "      <th>additional</th>\n",
       "    </tr>\n",
       "  </thead>\n",
       "  <tbody>\n",
       "    <tr>\n",
       "      <th>0</th>\n",
       "      <td>2019-07-19 13:16:41.731534</td>\n",
       "      <td>BBB</td>\n",
       "      <td>7.0</td>\n",
       "      <td>15</td>\n",
       "      <td>0</td>\n",
       "    </tr>\n",
       "    <tr>\n",
       "      <th>1</th>\n",
       "      <td>2019-07-19 13:16:41.731534</td>\n",
       "      <td>AAA</td>\n",
       "      <td>8.0</td>\n",
       "      <td>20</td>\n",
       "      <td>13</td>\n",
       "    </tr>\n",
       "    <tr>\n",
       "      <th>2</th>\n",
       "      <td>2019-07-19 13:16:41.731534</td>\n",
       "      <td>CCC</td>\n",
       "      <td>6.0</td>\n",
       "      <td>50</td>\n",
       "      <td>0</td>\n",
       "    </tr>\n",
       "  </tbody>\n",
       "</table>\n",
       "</div>"
      ],
      "text/plain": [
       "                        date product  quantity beginning additional\n",
       "0 2019-07-19 13:16:41.731534     BBB       7.0        15          0\n",
       "1 2019-07-19 13:16:41.731534     AAA       8.0        20         13\n",
       "2 2019-07-19 13:16:41.731534     CCC       6.0        50          0"
      ]
     },
     "execution_count": 7,
     "metadata": {},
     "output_type": "execute_result"
    }
   ],
   "source": [
    "import datetime\n",
    "\n",
    "date = datetime.datetime.now()\n",
    "\n",
    "df3 = pd.DataFrame({\"date\":[],\"product\":[],\"quantity\":[]})\n",
    "\n",
    "for i in product_tally:\n",
    "    df3 = df3.append({\"date\":date,\"product\":i,\"quantity\":product_tally[i]},ignore_index=True)\n",
    "\n",
    "df3[\"beginning\"]=beginning  \n",
    "df3[\"additional\"]=additional\n",
    "    \n",
    "df3"
   ]
  },
  {
   "cell_type": "code",
   "execution_count": 8,
   "metadata": {},
   "outputs": [
    {
     "data": {
      "text/html": [
       "<div>\n",
       "<style scoped>\n",
       "    .dataframe tbody tr th:only-of-type {\n",
       "        vertical-align: middle;\n",
       "    }\n",
       "\n",
       "    .dataframe tbody tr th {\n",
       "        vertical-align: top;\n",
       "    }\n",
       "\n",
       "    .dataframe thead th {\n",
       "        text-align: right;\n",
       "    }\n",
       "</style>\n",
       "<table border=\"1\" class=\"dataframe\">\n",
       "  <thead>\n",
       "    <tr style=\"text-align: right;\">\n",
       "      <th></th>\n",
       "      <th>date</th>\n",
       "      <th>product</th>\n",
       "      <th>beginning</th>\n",
       "      <th>additional</th>\n",
       "      <th>quantity</th>\n",
       "    </tr>\n",
       "  </thead>\n",
       "  <tbody>\n",
       "    <tr>\n",
       "      <th>0</th>\n",
       "      <td>2019-07-19 13:16:41.731534</td>\n",
       "      <td>BBB</td>\n",
       "      <td>15</td>\n",
       "      <td>0</td>\n",
       "      <td>7.0</td>\n",
       "    </tr>\n",
       "    <tr>\n",
       "      <th>1</th>\n",
       "      <td>2019-07-19 13:16:41.731534</td>\n",
       "      <td>AAA</td>\n",
       "      <td>20</td>\n",
       "      <td>13</td>\n",
       "      <td>8.0</td>\n",
       "    </tr>\n",
       "    <tr>\n",
       "      <th>2</th>\n",
       "      <td>2019-07-19 13:16:41.731534</td>\n",
       "      <td>CCC</td>\n",
       "      <td>50</td>\n",
       "      <td>0</td>\n",
       "      <td>6.0</td>\n",
       "    </tr>\n",
       "  </tbody>\n",
       "</table>\n",
       "</div>"
      ],
      "text/plain": [
       "                        date product beginning additional  quantity\n",
       "0 2019-07-19 13:16:41.731534     BBB        15          0       7.0\n",
       "1 2019-07-19 13:16:41.731534     AAA        20         13       8.0\n",
       "2 2019-07-19 13:16:41.731534     CCC        50          0       6.0"
      ]
     },
     "execution_count": 8,
     "metadata": {},
     "output_type": "execute_result"
    }
   ],
   "source": [
    "df3 = df3.loc[:,[\"date\",\"product\",\"beginning\",\"additional\",\"quantity\"]]\n",
    "df3"
   ]
  },
  {
   "cell_type": "code",
   "execution_count": 9,
   "metadata": {},
   "outputs": [
    {
     "data": {
      "text/html": [
       "<div>\n",
       "<style scoped>\n",
       "    .dataframe tbody tr th:only-of-type {\n",
       "        vertical-align: middle;\n",
       "    }\n",
       "\n",
       "    .dataframe tbody tr th {\n",
       "        vertical-align: top;\n",
       "    }\n",
       "\n",
       "    .dataframe thead th {\n",
       "        text-align: right;\n",
       "    }\n",
       "</style>\n",
       "<table border=\"1\" class=\"dataframe\">\n",
       "  <thead>\n",
       "    <tr style=\"text-align: right;\">\n",
       "      <th></th>\n",
       "      <th>date</th>\n",
       "      <th>product</th>\n",
       "      <th>beginning</th>\n",
       "      <th>additional</th>\n",
       "      <th>quantity</th>\n",
       "    </tr>\n",
       "  </thead>\n",
       "  <tbody>\n",
       "    <tr>\n",
       "      <th>0</th>\n",
       "      <td>2019-07-19 13:16:41.731534</td>\n",
       "      <td>BBB</td>\n",
       "      <td>15</td>\n",
       "      <td>0</td>\n",
       "      <td>7.0</td>\n",
       "    </tr>\n",
       "    <tr>\n",
       "      <th>1</th>\n",
       "      <td>2019-07-19 13:16:41.731534</td>\n",
       "      <td>AAA</td>\n",
       "      <td>20</td>\n",
       "      <td>13</td>\n",
       "      <td>8.0</td>\n",
       "    </tr>\n",
       "    <tr>\n",
       "      <th>2</th>\n",
       "      <td>2019-07-19 13:16:41.731534</td>\n",
       "      <td>CCC</td>\n",
       "      <td>50</td>\n",
       "      <td>0</td>\n",
       "      <td>6.0</td>\n",
       "    </tr>\n",
       "  </tbody>\n",
       "</table>\n",
       "</div>"
      ],
      "text/plain": [
       "                        date product  beginning  additional  quantity\n",
       "0 2019-07-19 13:16:41.731534     BBB         15           0       7.0\n",
       "1 2019-07-19 13:16:41.731534     AAA         20          13       8.0\n",
       "2 2019-07-19 13:16:41.731534     CCC         50           0       6.0"
      ]
     },
     "execution_count": 9,
     "metadata": {},
     "output_type": "execute_result"
    }
   ],
   "source": [
    "df3.loc[:,\"beginning\"]=df3.loc[:,\"beginning\"].apply(pd.to_numeric)\n",
    "df3.loc[:,\"additional\"]=df3.loc[:,\"additional\"].apply(pd.to_numeric)\n",
    "df3"
   ]
  },
  {
   "cell_type": "code",
   "execution_count": 10,
   "metadata": {},
   "outputs": [
    {
     "data": {
      "text/html": [
       "<div>\n",
       "<style scoped>\n",
       "    .dataframe tbody tr th:only-of-type {\n",
       "        vertical-align: middle;\n",
       "    }\n",
       "\n",
       "    .dataframe tbody tr th {\n",
       "        vertical-align: top;\n",
       "    }\n",
       "\n",
       "    .dataframe thead th {\n",
       "        text-align: right;\n",
       "    }\n",
       "</style>\n",
       "<table border=\"1\" class=\"dataframe\">\n",
       "  <thead>\n",
       "    <tr style=\"text-align: right;\">\n",
       "      <th></th>\n",
       "      <th>date</th>\n",
       "      <th>product</th>\n",
       "      <th>beginning</th>\n",
       "      <th>additional</th>\n",
       "      <th>quantity</th>\n",
       "      <th>final inventory</th>\n",
       "    </tr>\n",
       "  </thead>\n",
       "  <tbody>\n",
       "    <tr>\n",
       "      <th>0</th>\n",
       "      <td>2019-07-19 13:16:41.731534</td>\n",
       "      <td>BBB</td>\n",
       "      <td>15</td>\n",
       "      <td>0</td>\n",
       "      <td>7.0</td>\n",
       "      <td>8.0</td>\n",
       "    </tr>\n",
       "    <tr>\n",
       "      <th>1</th>\n",
       "      <td>2019-07-19 13:16:41.731534</td>\n",
       "      <td>AAA</td>\n",
       "      <td>20</td>\n",
       "      <td>13</td>\n",
       "      <td>8.0</td>\n",
       "      <td>25.0</td>\n",
       "    </tr>\n",
       "    <tr>\n",
       "      <th>2</th>\n",
       "      <td>2019-07-19 13:16:41.731534</td>\n",
       "      <td>CCC</td>\n",
       "      <td>50</td>\n",
       "      <td>0</td>\n",
       "      <td>6.0</td>\n",
       "      <td>44.0</td>\n",
       "    </tr>\n",
       "  </tbody>\n",
       "</table>\n",
       "</div>"
      ],
      "text/plain": [
       "                        date product  beginning  additional  quantity  \\\n",
       "0 2019-07-19 13:16:41.731534     BBB         15           0       7.0   \n",
       "1 2019-07-19 13:16:41.731534     AAA         20          13       8.0   \n",
       "2 2019-07-19 13:16:41.731534     CCC         50           0       6.0   \n",
       "\n",
       "   final inventory  \n",
       "0              8.0  \n",
       "1             25.0  \n",
       "2             44.0  "
      ]
     },
     "execution_count": 10,
     "metadata": {},
     "output_type": "execute_result"
    }
   ],
   "source": [
    "df3[\"final inventory\"]=df3.loc[:,\"beginning\"]-df3.loc[:,\"quantity\"]+df3.loc[:,\"additional\"]\n",
    "df3"
   ]
  },
  {
   "cell_type": "code",
   "execution_count": 11,
   "metadata": {},
   "outputs": [],
   "source": [
    "# CONCERNS:\n",
    "    # how to consider final inventory of a certain day as the beginning inventory of the next one (is it\n",
    "    # possible to append to a new line?)"
   ]
  }
 ],
 "metadata": {
  "kernelspec": {
   "display_name": "Python 3",
   "language": "python",
   "name": "python3"
  },
  "language_info": {
   "codemirror_mode": {
    "name": "ipython",
    "version": 3
   },
   "file_extension": ".py",
   "mimetype": "text/x-python",
   "name": "python",
   "nbconvert_exporter": "python",
   "pygments_lexer": "ipython3",
   "version": "3.7.3"
  }
 },
 "nbformat": 4,
 "nbformat_minor": 2
}
